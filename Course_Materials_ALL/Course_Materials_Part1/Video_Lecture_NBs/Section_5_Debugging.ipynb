{
 "cells": [
  {
   "cell_type": "markdown",
   "id": "cae56f01",
   "metadata": {},
   "source": [
    "# Section 5: Debug Errors\n",
    "\n",
    "Dataset: The 5 most succesful athletes in summer olympic games (medals)"
   ]
  },
  {
   "cell_type": "code",
   "execution_count": 2,
   "id": "ff707f94",
   "metadata": {},
   "outputs": [],
   "source": [
    "my_dict = {\"Phelps, Michael\": 22,\n",
    "          \"Latynina, Larisa\": 18,\n",
    "          \"Andrianov, Nikolay\": 15,\n",
    "          \"Mangiarotti, Edoarado\": 13,\n",
    "          \"Ono, Takashi\" : 13}"
   ]
  },
  {
   "cell_type": "code",
   "execution_count": 3,
   "id": "8d717665",
   "metadata": {},
   "outputs": [
    {
     "data": {
      "text/plain": [
       "{'Phelps, Michael': 22,\n",
       " 'Latynina, Larisa': 18,\n",
       " 'Andrianov, Nikolay': 15,\n",
       " 'Mangiarotti, Edoarado': 13,\n",
       " 'Ono, Takashi': 13}"
      ]
     },
     "execution_count": 3,
     "metadata": {},
     "output_type": "execute_result"
    }
   ],
   "source": [
    "my_dict"
   ]
  },
  {
   "cell_type": "markdown",
   "id": "d9a74f53",
   "metadata": {},
   "source": []
  },
  {
   "cell_type": "markdown",
   "id": "c815e9c2",
   "metadata": {},
   "source": [
    "* Question #1: How many medals did Michael Phepls win"
   ]
  },
  {
   "cell_type": "code",
   "execution_count": 12,
   "id": "fdcb59aa",
   "metadata": {},
   "outputs": [
    {
     "ename": "KeyError",
     "evalue": "'Phelps,Michael'",
     "output_type": "error",
     "traceback": [
      "\u001b[0;31m---------------------------------------------------------------------------\u001b[0m",
      "\u001b[0;31mKeyError\u001b[0m                                  Traceback (most recent call last)",
      "Cell \u001b[0;32mIn[12], line 1\u001b[0m\n\u001b[0;32m----> 1\u001b[0m my_dict[\u001b[38;5;124m\"\u001b[39m\u001b[38;5;124mPhelps,Michael\u001b[39m\u001b[38;5;124m\"\u001b[39m]\n",
      "\u001b[0;31mKeyError\u001b[0m: 'Phelps,Michael'"
     ]
    }
   ],
   "source": [
    "my_dict[\"Phelps,Michael\"] "
   ]
  },
  {
   "cell_type": "code",
   "execution_count": 11,
   "id": "8ef3b578",
   "metadata": {},
   "outputs": [
    {
     "data": {
      "text/plain": [
       "22"
      ]
     },
     "execution_count": 11,
     "metadata": {},
     "output_type": "execute_result"
    }
   ],
   "source": [
    "my_dict[\"Phelps, Michael\"]"
   ]
  },
  {
   "cell_type": "code",
   "execution_count": null,
   "id": "6d6062ab",
   "metadata": {},
   "outputs": [],
   "source": []
  },
  {
   "cell_type": "markdown",
   "id": "1b5b41e5",
   "metadata": {},
   "source": [
    "* Question #2: How many medals did Michael Phelps and Takashi Ono win together?"
   ]
  },
  {
   "cell_type": "code",
   "execution_count": 14,
   "id": "b7da1712",
   "metadata": {},
   "outputs": [
    {
     "data": {
      "text/plain": [
       "35"
      ]
     },
     "execution_count": 14,
     "metadata": {},
     "output_type": "execute_result"
    }
   ],
   "source": [
    "my_dict[\"Phelps, Michael\"] + my_dict[\"Ono, Takashi\"]"
   ]
  },
  {
   "cell_type": "code",
   "execution_count": null,
   "id": "12eaf9ce",
   "metadata": {},
   "outputs": [],
   "source": []
  },
  {
   "cell_type": "code",
   "execution_count": 15,
   "id": "bcc880fa",
   "metadata": {},
   "outputs": [],
   "source": [
    "import pandas as pd"
   ]
  },
  {
   "cell_type": "code",
   "execution_count": 16,
   "id": "18eee934",
   "metadata": {},
   "outputs": [],
   "source": [
    "my_series = pd.Series(my_dict)"
   ]
  },
  {
   "cell_type": "code",
   "execution_count": 17,
   "id": "23eba373",
   "metadata": {},
   "outputs": [
    {
     "data": {
      "text/plain": [
       "Andrianov, Nikolay       15\n",
       "Latynina, Larisa         18\n",
       "Mangiarotti, Edoarado    13\n",
       "Ono, Takashi             13\n",
       "Phelps, Michael          22\n",
       "dtype: int64"
      ]
     },
     "execution_count": 17,
     "metadata": {},
     "output_type": "execute_result"
    }
   ],
   "source": [
    "my_series.sort_index(ascending= True)"
   ]
  },
  {
   "cell_type": "code",
   "execution_count": null,
   "id": "06fd8acd",
   "metadata": {},
   "outputs": [],
   "source": []
  },
  {
   "cell_type": "markdown",
   "id": "cc2c9ca9",
   "metadata": {},
   "source": [
    "# Omitting cells, changing the sequence of cells and more"
   ]
  },
  {
   "cell_type": "code",
   "execution_count": 18,
   "id": "2bc083ea",
   "metadata": {},
   "outputs": [],
   "source": [
    "import pandas as pd"
   ]
  },
  {
   "cell_type": "code",
   "execution_count": 19,
   "id": "d96bcf3d",
   "metadata": {},
   "outputs": [],
   "source": [
    "my_dict = {\"Name\": [\"Lionel Messi\", \"Cristiano Ronaldo\", \"Neymar Junior\", \"Kylian Mbappe\", \"Manuel Neuer\"],\n",
    "          \"Nationality\": [\"Argentina\", \"Portugal\", \"Brasil\", \"France\", \"Germany\"],\n",
    "          \"Club\": [\"FC Barcelona\", \"Juventus FC\", \"Paris SG\", \"Paris SG\", \"FC Bayern\"],\n",
    "          \"World_Chapion\": [False, False, False, True, True],\n",
    "          \"Height\": [1.70,1.87,1.75,1.78,1.93],\n",
    "          \"Goals_2018\": [45,44,28,21,0]}"
   ]
  },
  {
   "cell_type": "code",
   "execution_count": 20,
   "id": "d78e1c51",
   "metadata": {},
   "outputs": [
    {
     "data": {
      "text/html": [
       "<div>\n",
       "<style scoped>\n",
       "    .dataframe tbody tr th:only-of-type {\n",
       "        vertical-align: middle;\n",
       "    }\n",
       "\n",
       "    .dataframe tbody tr th {\n",
       "        vertical-align: top;\n",
       "    }\n",
       "\n",
       "    .dataframe thead th {\n",
       "        text-align: right;\n",
       "    }\n",
       "</style>\n",
       "<table border=\"1\" class=\"dataframe\">\n",
       "  <thead>\n",
       "    <tr style=\"text-align: right;\">\n",
       "      <th></th>\n",
       "      <th>Name</th>\n",
       "      <th>Nationality</th>\n",
       "      <th>Club</th>\n",
       "      <th>World_Chapion</th>\n",
       "      <th>Height</th>\n",
       "      <th>Goals_2018</th>\n",
       "    </tr>\n",
       "  </thead>\n",
       "  <tbody>\n",
       "    <tr>\n",
       "      <th>0</th>\n",
       "      <td>Lionel Messi</td>\n",
       "      <td>Argentina</td>\n",
       "      <td>FC Barcelona</td>\n",
       "      <td>False</td>\n",
       "      <td>1.70</td>\n",
       "      <td>45</td>\n",
       "    </tr>\n",
       "    <tr>\n",
       "      <th>1</th>\n",
       "      <td>Cristiano Ronaldo</td>\n",
       "      <td>Portugal</td>\n",
       "      <td>Juventus FC</td>\n",
       "      <td>False</td>\n",
       "      <td>1.87</td>\n",
       "      <td>44</td>\n",
       "    </tr>\n",
       "    <tr>\n",
       "      <th>2</th>\n",
       "      <td>Neymar Junior</td>\n",
       "      <td>Brasil</td>\n",
       "      <td>Paris SG</td>\n",
       "      <td>False</td>\n",
       "      <td>1.75</td>\n",
       "      <td>28</td>\n",
       "    </tr>\n",
       "    <tr>\n",
       "      <th>3</th>\n",
       "      <td>Kylian Mbappe</td>\n",
       "      <td>France</td>\n",
       "      <td>Paris SG</td>\n",
       "      <td>True</td>\n",
       "      <td>1.78</td>\n",
       "      <td>21</td>\n",
       "    </tr>\n",
       "    <tr>\n",
       "      <th>4</th>\n",
       "      <td>Manuel Neuer</td>\n",
       "      <td>Germany</td>\n",
       "      <td>FC Bayern</td>\n",
       "      <td>True</td>\n",
       "      <td>1.93</td>\n",
       "      <td>0</td>\n",
       "    </tr>\n",
       "  </tbody>\n",
       "</table>\n",
       "</div>"
      ],
      "text/plain": [
       "                Name Nationality          Club  World_Chapion  Height  \\\n",
       "0       Lionel Messi   Argentina  FC Barcelona          False    1.70   \n",
       "1  Cristiano Ronaldo    Portugal   Juventus FC          False    1.87   \n",
       "2      Neymar Junior      Brasil      Paris SG          False    1.75   \n",
       "3      Kylian Mbappe      France      Paris SG           True    1.78   \n",
       "4       Manuel Neuer     Germany     FC Bayern           True    1.93   \n",
       "\n",
       "   Goals_2018  \n",
       "0          45  \n",
       "1          44  \n",
       "2          28  \n",
       "3          21  \n",
       "4           0  "
      ]
     },
     "execution_count": 20,
     "metadata": {},
     "output_type": "execute_result"
    }
   ],
   "source": [
    "df = pd.DataFrame(data = my_dict)\n",
    "df"
   ]
  },
  {
   "cell_type": "code",
   "execution_count": null,
   "id": "029bd096",
   "metadata": {},
   "outputs": [],
   "source": []
  },
  {
   "cell_type": "code",
   "execution_count": 21,
   "id": "cab8704e",
   "metadata": {},
   "outputs": [],
   "source": [
    "df.set_index(\"Name\", inplace = True) #Make the Name column the index column"
   ]
  },
  {
   "cell_type": "code",
   "execution_count": 22,
   "id": "477487f0",
   "metadata": {},
   "outputs": [
    {
     "data": {
      "text/html": [
       "<div>\n",
       "<style scoped>\n",
       "    .dataframe tbody tr th:only-of-type {\n",
       "        vertical-align: middle;\n",
       "    }\n",
       "\n",
       "    .dataframe tbody tr th {\n",
       "        vertical-align: top;\n",
       "    }\n",
       "\n",
       "    .dataframe thead th {\n",
       "        text-align: right;\n",
       "    }\n",
       "</style>\n",
       "<table border=\"1\" class=\"dataframe\">\n",
       "  <thead>\n",
       "    <tr style=\"text-align: right;\">\n",
       "      <th></th>\n",
       "      <th>Nationality</th>\n",
       "      <th>Club</th>\n",
       "      <th>World_Chapion</th>\n",
       "      <th>Height</th>\n",
       "      <th>Goals_2018</th>\n",
       "    </tr>\n",
       "    <tr>\n",
       "      <th>Name</th>\n",
       "      <th></th>\n",
       "      <th></th>\n",
       "      <th></th>\n",
       "      <th></th>\n",
       "      <th></th>\n",
       "    </tr>\n",
       "  </thead>\n",
       "  <tbody>\n",
       "    <tr>\n",
       "      <th>Lionel Messi</th>\n",
       "      <td>Argentina</td>\n",
       "      <td>FC Barcelona</td>\n",
       "      <td>False</td>\n",
       "      <td>1.70</td>\n",
       "      <td>45</td>\n",
       "    </tr>\n",
       "    <tr>\n",
       "      <th>Cristiano Ronaldo</th>\n",
       "      <td>Portugal</td>\n",
       "      <td>Juventus FC</td>\n",
       "      <td>False</td>\n",
       "      <td>1.87</td>\n",
       "      <td>44</td>\n",
       "    </tr>\n",
       "    <tr>\n",
       "      <th>Neymar Junior</th>\n",
       "      <td>Brasil</td>\n",
       "      <td>Paris SG</td>\n",
       "      <td>False</td>\n",
       "      <td>1.75</td>\n",
       "      <td>28</td>\n",
       "    </tr>\n",
       "    <tr>\n",
       "      <th>Kylian Mbappe</th>\n",
       "      <td>France</td>\n",
       "      <td>Paris SG</td>\n",
       "      <td>True</td>\n",
       "      <td>1.78</td>\n",
       "      <td>21</td>\n",
       "    </tr>\n",
       "    <tr>\n",
       "      <th>Manuel Neuer</th>\n",
       "      <td>Germany</td>\n",
       "      <td>FC Bayern</td>\n",
       "      <td>True</td>\n",
       "      <td>1.93</td>\n",
       "      <td>0</td>\n",
       "    </tr>\n",
       "  </tbody>\n",
       "</table>\n",
       "</div>"
      ],
      "text/plain": [
       "                  Nationality          Club  World_Chapion  Height  Goals_2018\n",
       "Name                                                                          \n",
       "Lionel Messi        Argentina  FC Barcelona          False    1.70          45\n",
       "Cristiano Ronaldo    Portugal   Juventus FC          False    1.87          44\n",
       "Neymar Junior          Brasil      Paris SG          False    1.75          28\n",
       "Kylian Mbappe          France      Paris SG           True    1.78          21\n",
       "Manuel Neuer          Germany     FC Bayern           True    1.93           0"
      ]
     },
     "execution_count": 22,
     "metadata": {},
     "output_type": "execute_result"
    }
   ],
   "source": [
    "df"
   ]
  },
  {
   "cell_type": "code",
   "execution_count": 26,
   "id": "f88fc89e",
   "metadata": {},
   "outputs": [
    {
     "data": {
      "text/plain": [
       "Nationality         Argentina\n",
       "Club             FC Barcelona\n",
       "World_Chapion           False\n",
       "Height                    1.7\n",
       "Goals_2018                 45\n",
       "Name: Lionel Messi, dtype: object"
      ]
     },
     "execution_count": 26,
     "metadata": {},
     "output_type": "execute_result"
    }
   ],
   "source": [
    "df.loc[\"Lionel Messi\"]"
   ]
  },
  {
   "cell_type": "code",
   "execution_count": null,
   "id": "3e1bd4f7",
   "metadata": {},
   "outputs": [],
   "source": []
  },
  {
   "cell_type": "code",
   "execution_count": null,
   "id": "6167d6d9",
   "metadata": {},
   "outputs": [],
   "source": []
  },
  {
   "cell_type": "code",
   "execution_count": null,
   "id": "ff51f077",
   "metadata": {},
   "outputs": [],
   "source": []
  },
  {
   "cell_type": "code",
   "execution_count": null,
   "id": "c10c8893",
   "metadata": {},
   "outputs": [],
   "source": []
  },
  {
   "cell_type": "code",
   "execution_count": null,
   "id": "f77740d7",
   "metadata": {},
   "outputs": [],
   "source": []
  },
  {
   "cell_type": "code",
   "execution_count": null,
   "id": "efbe1e58",
   "metadata": {},
   "outputs": [],
   "source": []
  },
  {
   "cell_type": "code",
   "execution_count": null,
   "id": "4b4d1229",
   "metadata": {},
   "outputs": [],
   "source": []
  },
  {
   "cell_type": "code",
   "execution_count": null,
   "id": "1b9747a2",
   "metadata": {},
   "outputs": [],
   "source": []
  }
 ],
 "metadata": {
  "kernelspec": {
   "display_name": "Python 3 (ipykernel)",
   "language": "python",
   "name": "python3"
  },
  "language_info": {
   "codemirror_mode": {
    "name": "ipython",
    "version": 3
   },
   "file_extension": ".py",
   "mimetype": "text/x-python",
   "name": "python",
   "nbconvert_exporter": "python",
   "pygments_lexer": "ipython3",
   "version": "3.11.5"
  }
 },
 "nbformat": 4,
 "nbformat_minor": 5
}
